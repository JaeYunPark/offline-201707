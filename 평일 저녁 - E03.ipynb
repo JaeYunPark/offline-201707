{
 "cells": [
  {
   "cell_type": "code",
   "execution_count": 3,
   "metadata": {
    "collapsed": true
   },
   "outputs": [],
   "source": [
    "class Person:\n",
    "    def run(self):\n",
    "        print('뜁니다.')"
   ]
  },
  {
   "cell_type": "code",
   "execution_count": 4,
   "metadata": {},
   "outputs": [
    {
     "name": "stdout",
     "output_type": "stream",
     "text": [
      "뜁니다.\n"
     ]
    }
   ],
   "source": [
    "Person().run()"
   ]
  },
  {
   "cell_type": "code",
   "execution_count": 2,
   "metadata": {},
   "outputs": [
    {
     "name": "stdout",
     "output_type": "stream",
     "text": [
      "공을 드리블하며 뜁니다.\n"
     ]
    }
   ],
   "source": [
    "class SoccerPlayer(Person):\n",
    "    def run(self):\n",
    "        print('공을 드리블하며 뜁니다.')\n",
    "    \n",
    "SoccerPlayer().run()"
   ]
  },
  {
   "cell_type": "code",
   "execution_count": 9,
   "metadata": {},
   "outputs": [
    {
     "name": "stdout",
     "output_type": "stream",
     "text": [
      "손으로 공을 드리블하며 뜁니다.\n",
      "뜁니다.\n"
     ]
    }
   ],
   "source": [
    "class BasketballPlayer(Person):\n",
    "    def run(self):\n",
    "        super().run()\n",
    "        print('손으로 공을 드리블하며 뜁니다.')\n",
    "        # super(BasketballPlayer, self).run()\n",
    "        \n",
    "BasketballPlayer().run()"
   ]
  },
  {
   "cell_type": "markdown",
   "metadata": {},
   "source": [
    "## 예외"
   ]
  },
  {
   "cell_type": "code",
   "execution_count": 23,
   "metadata": {},
   "outputs": [
    {
     "name": "stdout",
     "output_type": "stream",
     "text": [
      "line 1\n",
      "Enter number : abc\n",
      "invalid literal for int() with base 10: 'abc'\n",
      "10진수 문자열을 입력해주세요.\n",
      "line 2\n"
     ]
    }
   ],
   "source": [
    "print('line 1')\n",
    "\n",
    "try:\n",
    "    line = input('Enter number : ')\n",
    "    print(int(line) + 1)\n",
    "except ValueError as e:\n",
    "    # print(e)\n",
    "    # print(str(e) + '10진수 문자열을 입력해주세요.')\n",
    "    print('''{}\n",
    "10진수 문자열을 입력해주세요.'''.format(e))\n",
    "except RuntimeError:\n",
    "    pass\n",
    "except (TypeError, IndexError):\n",
    "    pass\n",
    "\n",
    "print('line 2')"
   ]
  },
  {
   "cell_type": "code",
   "execution_count": 18,
   "metadata": {},
   "outputs": [
    {
     "name": "stdout",
     "output_type": "stream",
     "text": [
      "line 1\n",
      "Enter number : abc\n",
      "10진수 문자열을 입력해주세요.\n",
      "line 2\n"
     ]
    }
   ],
   "source": [
    "print('line 1')\n",
    "line = input('Enter number : ')\n",
    "\n",
    "if line.isdigit():\n",
    "    print(int(line) + 1)\n",
    "else:\n",
    "    print('10진수 문자열을 입력해주세요.')\n",
    "    \n",
    "print('line 2')"
   ]
  },
  {
   "cell_type": "code",
   "execution_count": null,
   "metadata": {
    "collapsed": true
   },
   "outputs": [],
   "source": []
  }
 ],
 "metadata": {
  "kernelspec": {
   "display_name": "Python [default]",
   "language": "python",
   "name": "python3"
  },
  "language_info": {
   "codemirror_mode": {
    "name": "ipython",
    "version": 3
   },
   "file_extension": ".py",
   "mimetype": "text/x-python",
   "name": "python",
   "nbconvert_exporter": "python",
   "pygments_lexer": "ipython3",
   "version": "3.5.2"
  }
 },
 "nbformat": 4,
 "nbformat_minor": 2
}
