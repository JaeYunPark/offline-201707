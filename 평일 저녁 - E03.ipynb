{
 "cells": [
  {
   "cell_type": "code",
   "execution_count": 3,
   "metadata": {
    "collapsed": true
   },
   "outputs": [],
   "source": [
    "class Person:\n",
    "    def run(self):\n",
    "        print('뜁니다.')"
   ]
  },
  {
   "cell_type": "code",
   "execution_count": 4,
   "metadata": {},
   "outputs": [
    {
     "name": "stdout",
     "output_type": "stream",
     "text": [
      "뜁니다.\n"
     ]
    }
   ],
   "source": [
    "Person().run()"
   ]
  },
  {
   "cell_type": "code",
   "execution_count": 2,
   "metadata": {},
   "outputs": [
    {
     "name": "stdout",
     "output_type": "stream",
     "text": [
      "공을 드리블하며 뜁니다.\n"
     ]
    }
   ],
   "source": [
    "class SoccerPlayer(Person):\n",
    "    def run(self):\n",
    "        print('공을 드리블하며 뜁니다.')\n",
    "    \n",
    "SoccerPlayer().run()"
   ]
  },
  {
   "cell_type": "code",
   "execution_count": 9,
   "metadata": {},
   "outputs": [
    {
     "name": "stdout",
     "output_type": "stream",
     "text": [
      "손으로 공을 드리블하며 뜁니다.\n",
      "뜁니다.\n"
     ]
    }
   ],
   "source": [
    "class BasketballPlayer(Person):\n",
    "    def run(self):\n",
    "        super().run()\n",
    "        print('손으로 공을 드리블하며 뜁니다.')\n",
    "        # super(BasketballPlayer, self).run()\n",
    "        \n",
    "BasketballPlayer().run()"
   ]
  },
  {
   "cell_type": "code",
   "execution_count": null,
   "metadata": {
    "collapsed": true
   },
   "outputs": [],
   "source": []
  }
 ],
 "metadata": {
  "kernelspec": {
   "display_name": "Python [default]",
   "language": "python",
   "name": "python3"
  },
  "language_info": {
   "codemirror_mode": {
    "name": "ipython",
    "version": 3
   },
   "file_extension": ".py",
   "mimetype": "text/x-python",
   "name": "python",
   "nbconvert_exporter": "python",
   "pygments_lexer": "ipython3",
   "version": "3.5.2"
  }
 },
 "nbformat": 4,
 "nbformat_minor": 2
}
