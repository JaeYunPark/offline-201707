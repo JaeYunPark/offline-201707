{
 "cells": [
  {
   "cell_type": "code",
   "execution_count": 3,
   "metadata": {
    "collapsed": true
   },
   "outputs": [],
   "source": [
    "class Person:\n",
    "    def run(self):\n",
    "        print('뜁니다.')"
   ]
  },
  {
   "cell_type": "code",
   "execution_count": 4,
   "metadata": {},
   "outputs": [
    {
     "name": "stdout",
     "output_type": "stream",
     "text": [
      "뜁니다.\n"
     ]
    }
   ],
   "source": [
    "Person().run()"
   ]
  },
  {
   "cell_type": "code",
   "execution_count": 2,
   "metadata": {},
   "outputs": [
    {
     "name": "stdout",
     "output_type": "stream",
     "text": [
      "공을 드리블하며 뜁니다.\n"
     ]
    }
   ],
   "source": [
    "class SoccerPlayer(Person):\n",
    "    def run(self):\n",
    "        print('공을 드리블하며 뜁니다.')\n",
    "    \n",
    "SoccerPlayer().run()"
   ]
  },
  {
   "cell_type": "code",
   "execution_count": 9,
   "metadata": {},
   "outputs": [
    {
     "name": "stdout",
     "output_type": "stream",
     "text": [
      "손으로 공을 드리블하며 뜁니다.\n",
      "뜁니다.\n"
     ]
    }
   ],
   "source": [
    "class BasketballPlayer(Person):\n",
    "    def run(self):\n",
    "        super().run()\n",
    "        print('손으로 공을 드리블하며 뜁니다.')\n",
    "        # super(BasketballPlayer, self).run()\n",
    "        \n",
    "BasketballPlayer().run()"
   ]
  },
  {
   "cell_type": "markdown",
   "metadata": {},
   "source": [
    "## 예외"
   ]
  },
  {
   "cell_type": "code",
   "execution_count": 23,
   "metadata": {},
   "outputs": [
    {
     "name": "stdout",
     "output_type": "stream",
     "text": [
      "line 1\n",
      "Enter number : abc\n",
      "invalid literal for int() with base 10: 'abc'\n",
      "10진수 문자열을 입력해주세요.\n",
      "line 2\n"
     ]
    }
   ],
   "source": [
    "print('line 1')\n",
    "\n",
    "try:\n",
    "    line = input('Enter number : ')\n",
    "    print(int(line) + 1)\n",
    "except ValueError as e:\n",
    "    # print(e)\n",
    "    # print(str(e) + '10진수 문자열을 입력해주세요.')\n",
    "    print('''{}\n",
    "10진수 문자열을 입력해주세요.'''.format(e))\n",
    "except RuntimeError:\n",
    "    pass\n",
    "except (TypeError, IndexError):\n",
    "    pass\n",
    "\n",
    "print('line 2')"
   ]
  },
  {
   "cell_type": "code",
   "execution_count": 18,
   "metadata": {},
   "outputs": [
    {
     "name": "stdout",
     "output_type": "stream",
     "text": [
      "line 1\n",
      "Enter number : abc\n",
      "10진수 문자열을 입력해주세요.\n",
      "line 2\n"
     ]
    }
   ],
   "source": [
    "print('line 1')\n",
    "line = input('Enter number : ')\n",
    "\n",
    "if line.isdigit():\n",
    "    print(int(line) + 1)\n",
    "else:\n",
    "    print('10진수 문자열을 입력해주세요.')\n",
    "    \n",
    "print('line 2')"
   ]
  },
  {
   "cell_type": "markdown",
   "metadata": {},
   "source": [
    "## 장식자"
   ]
  },
  {
   "cell_type": "code",
   "execution_count": 24,
   "metadata": {
    "collapsed": true
   },
   "outputs": [],
   "source": [
    "def base_10(fn):\n",
    "    def wrap(x, y):\n",
    "        return fn(x, y) + 10\n",
    "    return wrap"
   ]
  },
  {
   "cell_type": "code",
   "execution_count": 29,
   "metadata": {},
   "outputs": [
    {
     "name": "stdout",
     "output_type": "stream",
     "text": [
      "13\n"
     ]
    }
   ],
   "source": [
    "def mysum(x, y):\n",
    "    return x + y\n",
    "\n",
    "mysum = base_10(mysum)\n",
    "\n",
    "print(mysum(1, 2))\n",
    "\n",
    "# mysum(1, 2)"
   ]
  },
  {
   "cell_type": "code",
   "execution_count": 32,
   "metadata": {},
   "outputs": [
    {
     "name": "stdout",
     "output_type": "stream",
     "text": [
      "23\n"
     ]
    }
   ],
   "source": [
    "@base_10\n",
    "@base_10\n",
    "def mysum(x, y):\n",
    "    return x + y\n",
    "\n",
    "# mysum = base_10(base_10(mysum))\n",
    "\n",
    "print(mysum(1, 2))\n",
    "\n",
    "# mysum(1, 2)"
   ]
  },
  {
   "cell_type": "code",
   "execution_count": 39,
   "metadata": {},
   "outputs": [
    {
     "name": "stdout",
     "output_type": "stream",
     "text": [
      "33\n",
      "102\n"
     ]
    }
   ],
   "source": [
    "def base(base_i):\n",
    "    def wrap(fn):\n",
    "        def inner(x, y):\n",
    "            return fn(x, y) + base_i\n",
    "        return inner\n",
    "    return wrap\n",
    "   \n",
    "@base(30)\n",
    "def mysum(x, y):\n",
    "    return x + y\n",
    "\n",
    "@base(100)\n",
    "def mymultiply(x, y):\n",
    "    return x * y\n",
    "\n",
    "print(mysum(1, 2))\n",
    "print(mymultiply(1, 2))"
   ]
  },
  {
   "cell_type": "code",
   "execution_count": 46,
   "metadata": {},
   "outputs": [
    {
     "name": "stdout",
     "output_type": "stream",
     "text": [
      "3\n",
      "3\n",
      "4\n",
      "4\n",
      "---\n",
      "2\n",
      "3\n",
      "3\n",
      "3\n"
     ]
    }
   ],
   "source": [
    "import time\n",
    "\n",
    "cached = {}\n",
    "cached2 = {}\n",
    "\n",
    "def mysum(x, y):\n",
    "    key = (x, y)\n",
    "    if key not in cached:\n",
    "        time.sleep(1)\n",
    "        cached[key] = x + y\n",
    "    return cached[key]\n",
    "\n",
    "def mymultiply(x, y):\n",
    "    key = (x, y)\n",
    "    if key not in cached2:\n",
    "        time.sleep(1)\n",
    "        cached2[key] = x * y\n",
    "    return cached2[key]\n",
    "\n",
    "print(mysum(1, 2))\n",
    "print(mysum(1, 2))\n",
    "print(mysum(1, 3))\n",
    "print(mysum(1, 3))\n",
    "print('---')\n",
    "print(mymultiply(1, 2))\n",
    "print(mymultiply(1, 3))\n",
    "print(mymultiply(1, 3))\n",
    "print(mymultiply(1, 3))"
   ]
  },
  {
   "cell_type": "code",
   "execution_count": 47,
   "metadata": {},
   "outputs": [
    {
     "name": "stdout",
     "output_type": "stream",
     "text": [
      "3\n",
      "3\n",
      "4\n",
      "4\n",
      "---\n",
      "2\n",
      "3\n",
      "3\n",
      "3\n"
     ]
    }
   ],
   "source": [
    "import time\n",
    "\n",
    "def memoize(fn):\n",
    "    cached = {}\n",
    "    def wrap(x, y):\n",
    "        key = (x, y)\n",
    "        if key not in cached:\n",
    "            cached[key] = fn(x, y)\n",
    "        return cached[key]\n",
    "    return wrap\n",
    "\n",
    "\n",
    "def mysum(x, y):\n",
    "    time.sleep(1)\n",
    "    return x + y\n",
    "\n",
    "mysum = memoize(mysum)\n",
    "\n",
    "\n",
    "@memoize\n",
    "def mymultiply(x, y):\n",
    "    time.sleep(1)\n",
    "    return x * y\n",
    "\n",
    "print(mysum(1, 2))\n",
    "print(mysum(1, 2))\n",
    "print(mysum(1, 3))\n",
    "print(mysum(1, 3))\n",
    "print('---')\n",
    "print(mymultiply(1, 2))\n",
    "print(mymultiply(1, 3))\n",
    "print(mymultiply(1, 3))\n",
    "print(mymultiply(1, 3))"
   ]
  },
  {
   "cell_type": "code",
   "execution_count": 53,
   "metadata": {},
   "outputs": [
    {
     "name": "stdout",
     "output_type": "stream",
     "text": [
      "6\n",
      "6\n",
      "10\n",
      "10\n"
     ]
    }
   ],
   "source": [
    "import time\n",
    "\n",
    "def memoize(fn):\n",
    "    cached = {}\n",
    "    def wrap(*args):\n",
    "        key = args\n",
    "        if key not in cached:\n",
    "            cached[key] = fn(*args)\n",
    "        return cached[key]\n",
    "    return wrap\n",
    "\n",
    "@memoize\n",
    "def mysum(x, y):\n",
    "    time.sleep(1)\n",
    "    return x + y\n",
    "\n",
    "@memoize\n",
    "def mysum3(x, y, z):\n",
    "    time.sleep(1)\n",
    "    return x + y + z\n",
    "\n",
    "@memoize\n",
    "def mysum4(a, b, c, d):\n",
    "    time.sleep(1)\n",
    "    return a + b + c + d\n",
    "\n",
    "print(mysum3(1, 2, 3))\n",
    "print(mysum3(1, 2, 3))\n",
    "print(mysum4(1, 2, 3, 4))\n",
    "print(mysum4(1, 2, 3, 4))"
   ]
  },
  {
   "cell_type": "code",
   "execution_count": null,
   "metadata": {
    "collapsed": true
   },
   "outputs": [],
   "source": []
  }
 ],
 "metadata": {
  "kernelspec": {
   "display_name": "Python [default]",
   "language": "python",
   "name": "python3"
  },
  "language_info": {
   "codemirror_mode": {
    "name": "ipython",
    "version": 3
   },
   "file_extension": ".py",
   "mimetype": "text/x-python",
   "name": "python",
   "nbconvert_exporter": "python",
   "pygments_lexer": "ipython3",
   "version": "3.5.2"
  }
 },
 "nbformat": 4,
 "nbformat_minor": 2
}
